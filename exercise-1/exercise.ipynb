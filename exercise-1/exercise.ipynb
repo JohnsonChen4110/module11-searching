{
 "cells": [
  {
   "cell_type": "markdown",
   "metadata": {},
   "source": [
    "# Exercise-1\n",
    "Add the specified code for each code cell, running the cells _in order_."
   ]
  },
  {
   "cell_type": "markdown",
   "metadata": {},
   "source": [
    "Create a variable **`deck`** that represents a deck of [playing cards](https://en.wikipedia.org/wiki/Playing_card). This variable should be a _list_ of 52 elements, each of which is a dictionary with the following keys:\n",
    "- `suit`, with a string value that is either `'hearts'`, `'diamonds'`, `'clubs'`, or `'spades'`.\n",
    "- `rank`, with an interger value ranging from 2 to 14 inclusive (11-14 represent a Jack, Queen, King, or Ace respectively).\n",
    "\n",
    "_Tip:_ use a pair of nested loops to add each combination of suit and rank to the `deck` list!"
   ]
  },
  {
   "cell_type": "code",
   "execution_count": 2,
   "metadata": {
    "collapsed": false
   },
   "outputs": [],
   "source": [
    "deck = []\n",
    "for i in ['hearts','diamonds','clubs','spades']:\n",
    "    for j in range(2,15):\n",
    "        deck.append({i:j})"
   ]
  },
  {
   "cell_type": "markdown",
   "metadata": {},
   "source": [
    "Create a list **hand** that represents a hand of [Poker](https://en.wikipedia.org/wiki/Poker) (5-card draw). Add 5 cards from the `deck` to this list.\n",
    "- You can add 5 specific cards for testing (check their indices!), or use the `random.shuffle()` function to shuffle the deck and then _slice_ 5 cards from the top.\n",
    "\n",
    "Print out the `hand` so you know what you are dealing with!"
   ]
  },
  {
   "cell_type": "code",
   "execution_count": 23,
   "metadata": {
    "collapsed": false
   },
   "outputs": [
    {
     "ename": "TypeError",
     "evalue": "'dict_items' object does not support indexing",
     "output_type": "error",
     "traceback": [
      "\u001b[0;31m---------------------------------------------------------------------------\u001b[0m",
      "\u001b[0;31mTypeError\u001b[0m                                 Traceback (most recent call last)",
      "\u001b[0;32m<ipython-input-23-2982a7643b64>\u001b[0m in \u001b[0;36m<module>\u001b[0;34m()\u001b[0m\n\u001b[1;32m      2\u001b[0m \u001b[0mrandom\u001b[0m\u001b[0;34m.\u001b[0m\u001b[0mshuffle\u001b[0m\u001b[0;34m(\u001b[0m\u001b[0mdeck\u001b[0m\u001b[0;34m)\u001b[0m\u001b[0;34m\u001b[0m\u001b[0m\n\u001b[1;32m      3\u001b[0m \u001b[0mhand\u001b[0m \u001b[0;34m=\u001b[0m \u001b[0mdeck\u001b[0m\u001b[0;34m[\u001b[0m\u001b[0;34m:\u001b[0m\u001b[0;36m5\u001b[0m\u001b[0;34m]\u001b[0m\u001b[0;34m\u001b[0m\u001b[0m\n\u001b[0;32m----> 4\u001b[0;31m \u001b[0mhand\u001b[0m\u001b[0;34m[\u001b[0m\u001b[0;36m0\u001b[0m\u001b[0;34m]\u001b[0m\u001b[0;34m.\u001b[0m\u001b[0mitems\u001b[0m\u001b[0;34m(\u001b[0m\u001b[0;34m)\u001b[0m\u001b[0;34m[\u001b[0m\u001b[0;36m0\u001b[0m\u001b[0;34m]\u001b[0m\u001b[0;34m\u001b[0m\u001b[0m\n\u001b[0m",
      "\u001b[0;31mTypeError\u001b[0m: 'dict_items' object does not support indexing"
     ]
    }
   ],
   "source": [
    "import random\n",
    "random.shuffle(deck)\n",
    "hand = deck[:5]\n",
    "hand[0].items()[0]"
   ]
  },
  {
   "cell_type": "markdown",
   "metadata": {},
   "source": [
    "Define a function **`contains_queen_of_hearts()`** that takes in a list of cards (e.g., a hand) and returns whether or not the Queen of Hearts is in that list. _For practice, don't use the `in` operator_."
   ]
  },
  {
   "cell_type": "code",
   "execution_count": 11,
   "metadata": {
    "collapsed": false
   },
   "outputs": [],
   "source": [
    "def contains_queen_of_hearts(l):\n",
    "    for i in l:\n",
    "        if i == {'hearts':12}:\n",
    "            return True\n",
    "    return False"
   ]
  },
  {
   "cell_type": "markdown",
   "metadata": {},
   "source": [
    "Define a function **`get_high_card()`** that takes in a list of cards and returns the card (dictionary) of the highest value. The \"high card\" is the one with the highest rank. Cards of different suits but the same rank are considered to have the same value.\n",
    "- Hint: use a \"king-of-the-hill\" search!"
   ]
  },
  {
   "cell_type": "code",
   "execution_count": 25,
   "metadata": {
    "collapsed": false
   },
   "outputs": [
    {
     "data": {
      "text/plain": [
       "[{'diamonds': 14}]"
      ]
     },
     "execution_count": 25,
     "metadata": {},
     "output_type": "execute_result"
    }
   ],
   "source": [
    "def get_high_card(l):\n",
    "    out = [l[0]]\n",
    "    for i in l:\n",
    "        if list(i.values())[0] > list(out[0].values())[0]:\n",
    "            out = [i]\n",
    "        elif list(i.values())[0] == list(out[0].values())[0]:\n",
    "            out.append(i)\n",
    "        else:\n",
    "            pass\n",
    "    return out\n",
    "get_high_card(hand)\n",
    "        "
   ]
  },
  {
   "cell_type": "markdown",
   "metadata": {},
   "source": [
    "Define a function **`is_flush()`** that takes in a list of cards and returns whether or not the list represents a _flush_&mdash;that is, all of the cards have the same _suit_."
   ]
  },
  {
   "cell_type": "code",
   "execution_count": 27,
   "metadata": {
    "collapsed": false
   },
   "outputs": [
    {
     "data": {
      "text/plain": [
       "False"
      ]
     },
     "execution_count": 27,
     "metadata": {},
     "output_type": "execute_result"
    }
   ],
   "source": [
    "def is_flush(l):\n",
    "    key = l[0].keys()\n",
    "    for i in l:\n",
    "        if i.keys() != key:\n",
    "            return False\n",
    "    return True\n",
    "is_flush(hand)"
   ]
  },
  {
   "cell_type": "markdown",
   "metadata": {},
   "source": [
    "_Challenge_: Define a functon **`has_pair()`** that takes in a list of cards and returns whether or not there is at least one _pair_ (two cards with the same _rank_) in the list.\n",
    "\n",
    "_Bonus challenge:_ Return the rank of the pair of cards with the highest rank (e.g., if there is more than one pair!) "
   ]
  },
  {
   "cell_type": "code",
   "execution_count": 39,
   "metadata": {
    "collapsed": false
   },
   "outputs": [
    {
     "data": {
      "text/plain": [
       "False"
      ]
     },
     "execution_count": 39,
     "metadata": {},
     "output_type": "execute_result"
    }
   ],
   "source": [
    "def has_pair(l):\n",
    "    a = list(l[0].values())[0]\n",
    "    count = {}\n",
    "    for i in l:\n",
    "        if list(i.values())[0] in count.keys():\n",
    "            count[list(i.values())[0]] += 1\n",
    "        else:\n",
    "            count[list(i.values())[0]] = 1\n",
    "    li = [{key:val} for key,val in count.items() if val >= 2]\n",
    "    if not li:\n",
    "        return False\n",
    "    elif len(li) == 1:\n",
    "        return True\n",
    "    else:\n",
    "        highest = list(li[0].keys())[0]\n",
    "        for i in li:\n",
    "            if highest < list(i.keys())[0]:\n",
    "                highest = list(i.keys())[0]\n",
    "        return highest\n",
    "    \n",
    "has_pair(hand)\n",
    "        \n",
    "        \n",
    "        "
   ]
  },
  {
   "cell_type": "code",
   "execution_count": null,
   "metadata": {
    "collapsed": true
   },
   "outputs": [],
   "source": []
  }
 ],
 "metadata": {
  "kernelspec": {
   "display_name": "Python 3",
   "language": "python",
   "name": "python3"
  },
  "language_info": {
   "codemirror_mode": {
    "name": "ipython",
    "version": 3
   },
   "file_extension": ".py",
   "mimetype": "text/x-python",
   "name": "python",
   "nbconvert_exporter": "python",
   "pygments_lexer": "ipython3",
   "version": "3.6.0"
  },
  "toc": {
   "colors": {
    "hover_highlight": "#DAA520",
    "running_highlight": "#FF0000",
    "selected_highlight": "#FFD700"
   },
   "moveMenuLeft": true,
   "nav_menu": {
    "height": "30px",
    "width": "252px"
   },
   "navigate_menu": true,
   "number_sections": true,
   "sideBar": true,
   "threshold": 4,
   "toc_cell": false,
   "toc_section_display": "block",
   "toc_window_display": false,
   "widenNotebook": false
  }
 },
 "nbformat": 4,
 "nbformat_minor": 2
}
